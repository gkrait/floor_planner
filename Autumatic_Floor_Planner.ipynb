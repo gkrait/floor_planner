{
  "nbformat": 4,
  "nbformat_minor": 0,
  "metadata": {
    "colab": {
      "name": "Autumatic Floor Planner.ipynb",
      "provenance": []
    },
    "kernelspec": {
      "name": "python3",
      "display_name": "Python 3"
    },
    "language_info": {
      "name": "python"
    }
  },
  "cells": [
    {
      "cell_type": "markdown",
      "metadata": {
        "id": "wg-3Wt-CFCf0"
      },
      "source": [
        "# Autumatic Floor Planner (Draft)\n",
        "\n",
        "This is a brief explaination of  a \"very intial\" prototype of the [assigment](https://drive.google.com/file/d/1o_4rQJsV4tCPVNRguNNMCKe_NDHWbiEi/view?usp=sharing) you posted. \n",
        "\n",
        " I know that the motivation is to generate training data. However, from an algorithmic  point of view, I still do not see the constrains that I must respect in addition to the ones you mentioned in the assignment description. For example, what are the types  allowed for the putter  polygons?.\n",
        " \n",
        "  The goal of sharing this page is to have an example in hand to discuss, determine and understand the main goal more precisely. Let us start with how the implementation works:\n",
        "\n"
      ]
    },
    {
      "cell_type": "markdown",
      "metadata": {
        "id": "0USJHE53ehQr"
      },
      "source": [
        "## Algorithm (Draft)\n",
        "\n",
        "In fact, I chose a subdivision strategy, since it is as general as we want and more understandable as a start. \n",
        "\n",
        "1.   Generate a list rectangle of \"proper\" width and length desired.\n",
        "2.   choose a \"proper\" ration to divide over the length or width. Now we have a list of two polygons.\n",
        "3. Choose a polygon with a maximal width or length and apply Step(2) again.\n",
        "4. repeat until all Room numbers conditions are satisfied. \n",
        "\n",
        "I am sure that there are a lot of improvement possible, but I still to improve my feeling to be able to make a bitter approach. I tried my best in the cods to make it as flexible as possible for improvements. \n"
      ]
    },
    {
      "cell_type": "markdown",
      "metadata": {
        "id": "Tt5WaSG_ekhn"
      },
      "source": [
        "\n",
        "## Python Module\n",
        "The module draft consists of 3 main functions: *planner, Plot_Floor* and *Mack_csv*.  \n",
        "The module is accessible [here](https://drive.google.com/file/d/1JUg26CRL-LN-Orv9-9qwU8PvoRmsNOED/view?usp=sharing). To use it locally, please make sure to install: *matplotlib, shapely, numpy* and *csv*. If you find any problem in using it. Please do not hesitate to contact me. \n",
        "##*planner(x_min, y_min,x_max,y_max,N_rooms,d=0.5, min_len=1)*  Function\n",
        "\n",
        "I am aware that you expect the entries to be max-min areas & max-min number of rooms. However, for practical reasons, I chose to slightly change the input type to avoid technical bugs.  \n",
        "The input of the this function are  *x_min, y_min,x_max,y_max* that represent the boundaries of appartment. the variable *d*  represents the error allowed, that is, the width of the floor is between \\\\\n",
        "[x_min-d,x_max+d] and so  is the length [y_min-d,y_max+d].\n",
        "Simply, the variable *N_rooms* represents the number of rooms. \n",
        "\n",
        "The output is a randomly-generated list of objects of type Wall. Each object has three attributes: P1, P2 and label. P1, P2 are 2D-points with float entries. Label is a string that is in the set:\n",
        "\n",
        "{\"Exterior\", \"Load bearing\",\"Plaster\"}.\n",
        "The shape of the exterior polygon is almost a rectangular except additional smaller rectangles that are randomly added to some sides of the bigger rectangular.\n",
        "\n",
        "\n",
        "\n",
        "\n",
        "### Example"
      ]
    },
    {
      "cell_type": "code",
      "metadata": {
        "id": "yQtfyjKJ6Yv3",
        "colab": {
          "base_uri": "https://localhost:8080/"
        },
        "outputId": "8702477d-719c-4f41-d1f0-945bf879d9e3"
      },
      "source": [
        "#Just for Google colab: Linking to the .py file \n",
        "from google.colab import drive\n",
        "drive.mount('/content/drive/')"
      ],
      "execution_count": null,
      "outputs": [
        {
          "output_type": "stream",
          "text": [
            "Drive already mounted at /content/drive/; to attempt to forcibly remount, call drive.mount(\"/content/drive/\", force_remount=True).\n"
          ],
          "name": "stdout"
        }
      ]
    },
    {
      "cell_type": "code",
      "metadata": {
        "id": "HJDLRJtW792k"
      },
      "source": [
        "import sys\n",
        "sys.path.append('/content/drive/My Drive/Colab Notebooks')\n"
      ],
      "execution_count": null,
      "outputs": []
    },
    {
      "cell_type": "code",
      "metadata": {
        "colab": {
          "base_uri": "https://localhost:8080/"
        },
        "id": "8lsLpsKj9JAA",
        "outputId": "55785efe-ccd5-4c90-ce99-637d2f703f40"
      },
      "source": [
        "#Computing the Walls \n",
        "import floor_planner as fp \n",
        "from pprint import pprint\n",
        "All_Walls=fp.planner(0,0,15,10,7,3, 4)\n",
        "pprint(All_Walls[:3]) # The first 3 elements of All_Walls"
      ],
      "execution_count": null,
      "outputs": [
        {
          "output_type": "stream",
          "text": [
            "[Plaster: [(0.0,4.806029753560055),(0.0,10.0)],\n",
            " Plaster: [(0.0,10.0),(6.535776882798447,10.0)],\n",
            " Plaster: [(6.535776882798447,10.0),(6.535776882798447,4.806029753560055)]]\n"
          ],
          "name": "stdout"
        }
      ]
    },
    {
      "cell_type": "markdown",
      "metadata": {
        "id": "NiCw08twKQ1c"
      },
      "source": [
        "## Ploting the Walls"
      ]
    },
    {
      "cell_type": "code",
      "metadata": {
        "colab": {
          "base_uri": "https://localhost:8080/",
          "height": 262
        },
        "id": "h4Mv8AZeBOHT",
        "outputId": "ef7aabe6-3d1f-42de-e806-3170bdde31d6"
      },
      "source": [
        "fp.Plot_Floor(All_Walls,x_min=-4, x_max=25)"
      ],
      "execution_count": null,
      "outputs": [
        {
          "output_type": "display_data",
          "data": {
            "image/png": "[encoded data removed]",
            "text/plain": [
              "<Figure size 432x288 with 1 Axes>"
            ]
          },
          "metadata": {
            "tags": []
          }
        }
      ]
    },
    {
      "cell_type": "markdown",
      "metadata": {
        "id": "K-Zpl1v9KY7Y"
      },
      "source": [
        "## Saving the results as .csv file "
      ]
    },
    {
      "cell_type": "code",
      "metadata": {
        "colab": {
          "base_uri": "https://localhost:8080/"
        },
        "id": "5-TIslPlKffW",
        "outputId": "2fe39c35-1774-4e86-eb22-0a3479eb27a9"
      },
      "source": [
        "fp.Mack_csv(All_Walls,fname=\"Floor\") #fmane is optional for the name of the file"
      ],
      "execution_count": null,
      "outputs": [
        {
          "output_type": "execute_result",
          "data": {
            "text/plain": [
              "[{'Label': 'Plaster', 'P1': (0.0,4.806029753560055), 'P2': (0.0,10.0)},\n",
              " {'Label': 'Plaster', 'P1': (0.0,10.0), 'P2': (6.535776882798447,10.0)},\n",
              " {'Label': 'Plaster',\n",
              "  'P1': (6.535776882798447,10.0),\n",
              "  'P2': (6.535776882798447,4.806029753560055)},\n",
              " {'Label': 'Plaster',\n",
              "  'P1': (6.535776882798447,4.806029753560055),\n",
              "  'P2': (0.0,4.806029753560055)},\n",
              " {'Label': 'Plaster',\n",
              "  'P1': (0.0,4.806029753560055),\n",
              "  'P2': (0.0,4.806029753560055)},\n",
              " {'Label': 'Plaster', 'P1': (15.0,3.6346533555432865), 'P2': (15.0,0.0)},\n",
              " {'Label': 'Plaster', 'P1': (15.0,0.0), 'P2': (12.339544708248901,0.0)},\n",
              " {'Label': 'Plaster',\n",
              "  'P1': (12.339544708248901,0.0),\n",
              "  'P2': (12.339544708248901,3.6346533555432865)},\n",
              " {'Label': 'Plaster',\n",
              "  'P1': (12.339544708248901,3.6346533555432865),\n",
              "  'P2': (15.0,3.6346533555432865)},\n",
              " {'Label': 'Plaster',\n",
              "  'P1': (15.0,3.6346533555432865),\n",
              "  'P2': (15.0,3.6346533555432865)},\n",
              " {'Label': 'Plaster', 'P1': (12.339544708248901,0.0), 'P2': (9.0,0.0)},\n",
              " {'Label': 'Plaster', 'P1': (9.0,0.0), 'P2': (9.0,-3.0)},\n",
              " {'Label': 'Plaster', 'P1': (9.0,-3.0), 'P2': (6.535776882798447,-3.0)},\n",
              " {'Label': 'Plaster',\n",
              "  'P1': (6.535776882798447,-3.0),\n",
              "  'P2': (6.535776882798447,3.6346533555432865)},\n",
              " {'Label': 'Plaster',\n",
              "  'P1': (6.535776882798447,3.6346533555432865),\n",
              "  'P2': (12.339544708248901,3.6346533555432865)},\n",
              " {'Label': 'Plaster',\n",
              "  'P1': (12.339544708248901,3.6346533555432865),\n",
              "  'P2': (12.339544708248901,0.0)},\n",
              " {'Label': 'Plaster',\n",
              "  'P1': (12.339544708248901,0.0),\n",
              "  'P2': (12.339544708248901,0.0)},\n",
              " {'Label': 'Plaster',\n",
              "  'P1': (6.535776882798447,10.0),\n",
              "  'P2': (11.855571105111807,10.0)},\n",
              " {'Label': 'Plaster',\n",
              "  'P1': (11.855571105111807,10.0),\n",
              "  'P2': (11.855571105111807,3.6346533555432865)},\n",
              " {'Label': 'Plaster',\n",
              "  'P1': (11.855571105111807,3.6346533555432865),\n",
              "  'P2': (6.535776882798447,3.6346533555432865)},\n",
              " {'Label': 'Plaster',\n",
              "  'P1': (6.535776882798447,3.6346533555432865),\n",
              "  'P2': (6.535776882798447,10.0)},\n",
              " {'Label': 'Plaster',\n",
              "  'P1': (6.535776882798447,10.0),\n",
              "  'P2': (6.535776882798447,10.0)},\n",
              " {'Label': 'Plaster', 'P1': (11.855571105111807,10.0), 'P2': (15.0,10.0)},\n",
              " {'Label': 'Plaster', 'P1': (15.0,10.0), 'P2': (15.0,3.6346533555432865)},\n",
              " {'Label': 'Plaster',\n",
              "  'P1': (15.0,3.6346533555432865),\n",
              "  'P2': (11.855571105111807,3.6346533555432865)},\n",
              " {'Label': 'Plaster',\n",
              "  'P1': (11.855571105111807,3.6346533555432865),\n",
              "  'P2': (11.855571105111807,10.0)},\n",
              " {'Label': 'Plaster',\n",
              "  'P1': (11.855571105111807,10.0),\n",
              "  'P2': (11.855571105111807,10.0)},\n",
              " {'Label': 'Plaster', 'P1': (0.0,-3.0), 'P2': (0.0,0.0)},\n",
              " {'Label': 'Plaster', 'P1': (0.0,0.0), 'P2': (0.0,0.9640446603327021)},\n",
              " {'Label': 'Plaster',\n",
              "  'P1': (0.0,0.9640446603327021),\n",
              "  'P2': (6.535776882798447,0.9640446603327021)},\n",
              " {'Label': 'Plaster',\n",
              "  'P1': (6.535776882798447,0.9640446603327021),\n",
              "  'P2': (6.535776882798447,-3.0)},\n",
              " {'Label': 'Plaster', 'P1': (6.535776882798447,-3.0), 'P2': (0.0,-3.0)},\n",
              " {'Label': 'Plaster', 'P1': (0.0,-3.0), 'P2': (0.0,-3.0)},\n",
              " {'Label': 'Plaster',\n",
              "  'P1': (0.0,0.9640446603327021),\n",
              "  'P2': (0.0,4.806029753560055)},\n",
              " {'Label': 'Plaster',\n",
              "  'P1': (0.0,4.806029753560055),\n",
              "  'P2': (6.535776882798447,4.806029753560055)},\n",
              " {'Label': 'Plaster',\n",
              "  'P1': (6.535776882798447,4.806029753560055),\n",
              "  'P2': (6.535776882798447,0.9640446603327021)},\n",
              " {'Label': 'Plaster',\n",
              "  'P1': (6.535776882798447,0.9640446603327021),\n",
              "  'P2': (0.0,0.9640446603327021)},\n",
              " {'Label': 'Plaster',\n",
              "  'P1': (0.0,0.9640446603327021),\n",
              "  'P2': (0.0,0.9640446603327021)},\n",
              " {'Label': 'Exterior', 'P1': (0,0), 'P2': (0,-3)},\n",
              " {'Label': 'Exterior', 'P1': (0,-3), 'P2': (9,-3)},\n",
              " {'Label': 'Exterior', 'P1': (9,-3), 'P2': (9,0)},\n",
              " {'Label': 'Exterior', 'P1': (9,0), 'P2': (15,0)},\n",
              " {'Label': 'Exterior', 'P1': (15,0), 'P2': (15,10)},\n",
              " {'Label': 'Exterior', 'P1': (15,10), 'P2': (0,10)},\n",
              " {'Label': 'Exterior', 'P1': (0,10), 'P2': (0,0)},\n",
              " {'Label': 'Load_bearing', 'P1': (0,0), 'P2': (0.0,-1.5)},\n",
              " {'Label': 'Load_bearing', 'P1': (0,-3), 'P2': (4.5,-3.0)},\n",
              " {'Label': 'Load_bearing', 'P1': (9,-3), 'P2': (9.0,-1.5)},\n",
              " {'Label': 'Load_bearing', 'P1': (15,0), 'P2': (12.0,0.0)},\n",
              " {'Label': 'Load_bearing', 'P1': (15,0), 'P2': (15.0,5.0)},\n",
              " {'Label': 'Load_bearing', 'P1': (15,10), 'P2': (7.5,10.0)},\n",
              " {'Label': 'Load_bearing', 'P1': (0,0), 'P2': (0.0,5.0)}]"
            ]
          },
          "metadata": {
            "tags": []
          },
          "execution_count": 7
        }
      ]
    },
    {
      "cell_type": "code",
      "metadata": {
        "id": "CjQs-KcZidSJ"
      },
      "source": [
        ""
      ],
      "execution_count": null,
      "outputs": []
    }
  ]
}